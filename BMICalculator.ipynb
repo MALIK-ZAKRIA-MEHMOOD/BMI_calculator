{
  "nbformat": 4,
  "nbformat_minor": 0,
  "metadata": {
    "colab": {
      "provenance": [],
      "authorship_tag": "ABX9TyMdX+ZopbiHAcEgArOJTJ0M",
      "include_colab_link": true
    },
    "kernelspec": {
      "name": "python3",
      "display_name": "Python 3"
    },
    "language_info": {
      "name": "python"
    }
  },
  "cells": [
    {
      "cell_type": "markdown",
      "metadata": {
        "id": "view-in-github",
        "colab_type": "text"
      },
      "source": [
        "<a href=\"https://colab.research.google.com/github/MALIK-ZAKRIA-MEHMOOD/BMI_calculator/blob/main/BMICalculator.ipynb\" target=\"_parent\"><img src=\"https://colab.research.google.com/assets/colab-badge.svg\" alt=\"Open In Colab\"/></a>"
      ]
    },
    {
      "cell_type": "code",
      "execution_count": null,
      "metadata": {
        "colab": {
          "base_uri": "https://localhost:8080/"
        },
        "id": "P--Mwpv8j1VY",
        "outputId": "1a31a8af-db3e-48b3-f48e-d0eb25653108"
      },
      "outputs": [
        {
          "output_type": "stream",
          "name": "stdout",
          "text": [
            "Welcome to the BMI Calculator\n"
          ]
        }
      ],
      "source": [
        "# Function to calculate BMI\n",
        "def calculate_bmi(weight, height_cm):\n",
        "    height_m = height_cm / 100  # Convert height from cm to meters\n",
        "    bmi = weight / (height_m ** 2)\n",
        "    return bmi\n",
        "\n",
        "# Function to classify BMI based on the result\n",
        "def classify_bmi(bmi):\n",
        "    if bmi < 18.5:\n",
        "        return \"Underweight\"\n",
        "    elif 18.5 <= bmi < 24.9:\n",
        "        return \"Normal weight\"\n",
        "    elif 25 <= bmi < 29.9:\n",
        "        return \"Overweight\"\n",
        "    else:\n",
        "        return \"Obesity\"\n",
        "\n",
        "# User input for weight and height\n",
        "print(\"Welcome to the BMI Calculator\")\n",
        "\n",
        "try:\n",
        "    weight = float(input(\"Enter your weight in kilograms: \"))\n",
        "    height_cm = float(input(\"Enter your height in centimeters: \"))\n",
        "\n",
        "    # BMI Calculation\n",
        "    bmi = calculate_bmi(weight, height_cm)\n",
        "    classification = classify_bmi(bmi)\n",
        "\n",
        "    # Output the result\n",
        "    print(f\"\\nYour BMI is: {bmi:.2f}\")\n",
        "    print(f\"Based on your BMI, you are classified as: {classification}\")\n",
        "\n",
        "except ValueError:\n",
        "    print(\"Please enter valid numbers for weight and height.\")\n"
      ]
    }
  ]
}